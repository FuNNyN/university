{
  "nbformat": 4,
  "nbformat_minor": 0,
  "metadata": {
    "colab": {
      "provenance": [],
      "authorship_tag": "ABX9TyPXJjsbOc6G0c/ToRZHyaIE",
      "include_colab_link": true
    },
    "kernelspec": {
      "name": "python3",
      "display_name": "Python 3"
    },
    "language_info": {
      "name": "python"
    }
  },
  "cells": [
    {
      "cell_type": "markdown",
      "metadata": {
        "id": "view-in-github",
        "colab_type": "text"
      },
      "source": [
        "<a href=\"https://colab.research.google.com/github/FuNNyN/university/blob/main/ExtraTasks/%D0%A2%D0%B5%D0%BB%D0%B5%D1%84%D0%BE%D0%BD%D0%BD%D0%B0%D1%8F%20%D0%BA%D0%BD%D0%B8%D0%B3%D0%B0.ipynb\" target=\"_parent\"><img src=\"https://colab.research.google.com/assets/colab-badge.svg\" alt=\"Open In Colab\"/></a>"
      ]
    },
    {
      "cell_type": "code",
      "execution_count": null,
      "metadata": {
        "colab": {
          "base_uri": "https://localhost:8080/"
        },
        "id": "3fKarv-MTvFA",
        "outputId": "fcd3fa6b-27e0-4ea7-f399-43d0ecc159ad"
      },
      "outputs": [
        {
          "output_type": "stream",
          "name": "stdout",
          "text": [
            "Чего хотите? Ничего\n",
            "Пока\n"
          ]
        }
      ],
      "source": [
        "book = []\n",
        "f = True\n",
        "while f:\n",
        "  vvod = input('Чего хотите? ')\n",
        "  if vvod == 'Добавить контакт':\n",
        "    d = []\n",
        "    book.append(d)\n",
        "    name = input('Имя ')\n",
        "    fam = input('Фамилия ')\n",
        "    number = input('Номер ')\n",
        "    if name[0] in 'ЙЦУКЕНГШЩЗХЪФЫВАПРОЛДЖЭЯЧСМИТЬБЮ' and fam[0] in 'ЙЦУКЕНГШЩЗХЪФЫВАПРОЛДЖЭЯЧСМИТЬБЮ':\n",
        "      d.append(name)\n",
        "      d.append(fam)\n",
        "      if number[0]=='8':\n",
        "        number =number.replace('8','+7',1)\n",
        "        f = True\n",
        "      if number[0]=='7':\n",
        "        number = number.replace('7','+7',1)\n",
        "        f = True\n",
        "      if number[0]=='9':\n",
        "        number = number.replace('9','+79',1)\n",
        "        f = True\n",
        "      d.append(number)\n",
        "    else:\n",
        "      print('Первая буква имени или фамилии с маленькой буквы')\n",
        "      f =False\n",
        "  else:\n",
        "    f = False\n",
        "\n",
        "  if vvod == 'Удалить контакт':\n",
        "    que = input('Знаете ли вы на каком вы месте в списке? ')\n",
        "    if que == 'Да':\n",
        "      coun = int(input('Введите свое место '))\n",
        "      coun -= 1\n",
        "      book.pop(coun)\n",
        "      f = True\n",
        "    else:\n",
        "      print('Посмотрите в телефонную книгу ')\n",
        "      f = True\n",
        "  if vvod == 'Просмотреть телефонную книгу':\n",
        "    for i in range(0,len(book)):\n",
        "      print(i+1,book[i][0], book[i][1] ,book[i][2])\n",
        "    f = True\n",
        "  if vvod == 'Изменить номер телефона':\n",
        "    vopros = input('Знаете ли вы на каком вы месте в списке? ')\n",
        "    if vopros == 'Да':\n",
        "      count = int(input('Введите свое место '))\n",
        "      count-=1\n",
        "      book[count][2]=input('Введите новый номер ')\n",
        "      f = True\n",
        "    else:\n",
        "      print('Посмотрите в телефонную книгу ')\n",
        "      f = True\n",
        "  if vvod == 'Ничего':\n",
        "    print('Пока')\n",
        "    f = False\n",
        "\n"
      ]
    },
    {
      "cell_type": "code",
      "source": [],
      "metadata": {
        "id": "h3kNIM8FW7Uf"
      },
      "execution_count": null,
      "outputs": []
    }
  ]
}